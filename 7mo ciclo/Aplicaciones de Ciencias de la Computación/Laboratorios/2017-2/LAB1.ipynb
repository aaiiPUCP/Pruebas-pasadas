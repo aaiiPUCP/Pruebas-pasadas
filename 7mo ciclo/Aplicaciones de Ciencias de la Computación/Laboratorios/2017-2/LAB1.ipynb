{
 "cells": [
  {
   "cell_type": "markdown",
   "metadata": {},
   "source": [
    "# APLICACIONES EN CIENCIAS DE COMPUTACION¶"
   ]
  },
  {
   "cell_type": "markdown",
   "metadata": {},
   "source": [
    "## Laboratorio 1: Corregir el Programa del Agente \"Aspirador de 2 posiciones\"\n",
    "\n",
    "El presente notebook implementa un entorno de trabajo para el agente aspirador de dos posiciones. También encontras la implementacion del agente con un programa reflexivo simple. Las posiciones del entorno son denotadas como loc_A y loc_B, cada una de estas posiciones puede tener el estado 'Dirty' o 'Clean'. El agente debe limpiar su entorno, pero tiene un error en su programa. Tu tarea en este laboratorio sera identificar ese error y corregirlo. Al final del notebook deberas responder a las preguntas planteadas. "
   ]
  },
  {
   "cell_type": "markdown",
   "metadata": {},
   "source": [
    "# Clase <b>Thing</b>\n",
    "\n",
    "  Esta clase generica representa cualquier objeto fisico que puede aparecer en un <b>Ambiente</b>.  "
   ]
  },
  {
   "cell_type": "code",
   "execution_count": 13,
   "metadata": {
    "collapsed": true
   },
   "outputs": [],
   "source": [
    "class Thing(object):\n",
    "\n",
    "    def is_alive(self):\n",
    "        \"\"\"Cosas 'vivas'deben retornar true.\"\"\"\n",
    "        return hasattr(self, 'alive') and self.alive\n",
    "\n",
    "    def show_state(self):\n",
    "        \"\"\"Muestra el estado interno del agente. Subclases deben sobreescribir esto.\"\"\"\n",
    "        print(\"I don't know how to show_state.\")"
   ]
  },
  {
   "cell_type": "markdown",
   "metadata": {},
   "source": [
    "# Clase <b>Agent</b>\n",
    "\n",
    "Un agente es una subclase de Thing con un slot obligatorio: <b>.program</b>, el cual almacena la funcion que implementa el <b>programa del agente</b>. Esta funcion debe tomar como argumento la <b>percepcion</b> del agente y debe retornar una <b>accion</b>. La definicion de Percepcion y Accion depende del ambiente de trabajo (environment) donde el agente existe. El agente tambien puede tener el slot <b>.performance</b>, que mide el desempeño del agente en su ambiente."
   ]
  },
  {
   "cell_type": "code",
   "execution_count": 14,
   "metadata": {
    "collapsed": true
   },
   "outputs": [],
   "source": [
    "import collections\n",
    "import random\n",
    "\n",
    "class Agent(Thing):\n",
    "\n",
    "    def __init__(self, program=None):\n",
    "        self.alive = True\n",
    "        self.performance = 0\n",
    "        assert isinstance(program, collections.Callable)\n",
    "        self.program = program"
   ]
  },
  {
   "cell_type": "markdown",
   "metadata": {},
   "source": [
    "# Clase <b>Environment</b>\n",
    "\n",
    "Esta clase abstracta representa un entorno de tareas. Clases de entornos reales heredan de esta. En un entorno tipicamente se necesitará implementar 2 cosas:\n",
    "<b>percept</b>, que define la percepción que el agente ve; y \n",
    "<b>execute_action</b>, que define los efectos de ejecutar una acción. \n",
    "El entorno mantiene una lista de .things y .agents (el cual es un subconjunto de .things). Cada elemento de .things tiene un slot .location."
   ]
  },
  {
   "cell_type": "code",
   "execution_count": 15,
   "metadata": {
    "collapsed": true
   },
   "outputs": [],
   "source": [
    "class Environment(object):\n",
    "\n",
    "    def __init__(self):\n",
    "        self.things = []\n",
    "        self.agents = []\n",
    "\n",
    "    def thing_classes(self):\n",
    "        return []  # List of classes that can go into environment\n",
    "\n",
    "    def percept(self, agent):\n",
    "        \"\"\"Retorna la percepcion que el agente 'agent' ve en este punto.\"\"\"\n",
    "        raise NotImplementedError\n",
    "\n",
    "    def execute_action(self, agent, action):\n",
    "        \"\"\"El agente 'agent' ejecuta una accion 'action' en el entorno.\"\"\"\n",
    "        raise NotImplementedError\n",
    "\n",
    "    def default_location(self, thing):\n",
    "        \"\"\"Localización por defecto para colocar una nueva cosa sin localizacion especificada.\"\"\"\n",
    "        return None\n",
    "\n",
    "    def is_done(self):\n",
    "        \"\"\"Retorna True si no hay ningun agente vivo\"\"\"\n",
    "        return not any(agent.is_alive() for agent in self.agents)\n",
    "\n",
    "    def add_thing(self, thing, location=None):\n",
    "        \"\"\"Añade una cosa thing al entorno en la localizacion location. \n",
    "           Si thing es un programa de agente, crea un nuevo agente con ese programa.\"\"\"\n",
    "        if not isinstance(thing, Thing):\n",
    "            thing = Agent(thing)\n",
    "        assert thing not in self.things, \"No añade la misma cosa dos veces\"\n",
    "        thing.location = location if location is not None else self.default_location(thing)\n",
    "        self.things.append(thing)\n",
    "        if isinstance(thing, Agent):\n",
    "            thing.performance = 0\n",
    "            self.agents.append(thing)\n",
    "\n",
    "    def step(self):\n",
    "        \"\"\"Ejecuta un paso del entorno (llama a los programas de los agentes, obtiene sus acciones y las ejecuta). \"\"\"\n",
    "        if not self.is_done():\n",
    "            actions = []\n",
    "            for agent in self.agents:\n",
    "                if agent.alive:\n",
    "                    actions.append(agent.program(self.percept(agent)))\n",
    "                else:\n",
    "                    actions.append(\"\")\n",
    "            for (agent, action) in zip(self.agents, actions):\n",
    "                self.execute_action(agent, action)\n",
    "\n",
    "    def run(self, steps=1000):\n",
    "        \"\"\"Ejecuta steps pasos en el entorno.\"\"\"\n",
    "        for step in range(steps):\n",
    "            if self.is_done():\n",
    "                return\n",
    "            self.step()"
   ]
  },
  {
   "cell_type": "markdown",
   "metadata": {},
   "source": [
    "# Clase <b>VacuumEnvironment</b>\n",
    "\n",
    "Esta clase implementa el entorno del aspirador de 2 posiciones: loc_A y loc_B. Cada una de estas posiciones puede tener el estado 'Dirty' o 'Clean'. Un agente en este entorno percibe su localizacion y el estado de la misma"
   ]
  },
  {
   "cell_type": "code",
   "execution_count": 16,
   "metadata": {
    "collapsed": true
   },
   "outputs": [],
   "source": [
    "loc_A, loc_B = (0, 0), (1, 0)  # The two locations for the Vacuum world\n",
    "\n",
    "class VacuumEnvironment(Environment):\n",
    "\n",
    "    def __init__(self):\n",
    "        super().__init__()\n",
    "        self.status = {loc_A: random.choice(['Clean', 'Dirty']),\n",
    "                       loc_B: random.choice(['Clean', 'Dirty'])}\n",
    "\n",
    "    def thing_classes(self):\n",
    "        return [ReflexVacuumAgent]\n",
    "\n",
    "    def percept(self, agent):\n",
    "        \"\"\"Retorna la posicion del agente y el estado de la posicion (Dirty/Clean).\"\"\"\n",
    "        return (agent.location, self.status[agent.location])\n",
    "\n",
    "    def execute_action(self, agent, action):\n",
    "        \"\"\"Cambia la posicion del agente y/o el estado de la posicion; Aumenta en 10 el desempeño del agente por cada\n",
    "         aspiracion (accion 'suck') en una posicion con estado 'Dirty; Disminuye en 1 el desempeño por cada movida\"\"\"\n",
    "        if action == 'Right':\n",
    "            agent.location = loc_B\n",
    "            agent.performance -= 1\n",
    "        elif action == 'Left':\n",
    "            agent.location = loc_A\n",
    "            agent.performance -= 1\n",
    "        elif action == 'Suck':\n",
    "            if self.status[agent.location] == 'Dirty':\n",
    "                agent.performance += 10\n",
    "            self.status[agent.location] = 'Clean'\n",
    "\n",
    "    def default_location(self, thing):\n",
    "        \"\"\"Devuelve una posicion aleatoria.\"\"\"\n",
    "        return random.choice([loc_A, loc_B])"
   ]
  },
  {
   "cell_type": "markdown",
   "metadata": {},
   "source": [
    "# Agente Aspirador de 2 posiciones con Programa Reactivo Simple\n",
    "\n",
    "Este agente es el agente aspirador de dos posiciones que usa un programa reactivo simple: realiza una accion basado en la percepción (posicion, estado) actual"
   ]
  },
  {
   "cell_type": "code",
   "execution_count": 17,
   "metadata": {
    "collapsed": true
   },
   "outputs": [],
   "source": [
    "def ReflexVacuumAgent():\n",
    "    \n",
    "    def program(percept):\n",
    "        location, status = percept\n",
    "        if status == 'Dirty':\n",
    "            return 'Suck'\n",
    "        elif location == loc_A:\n",
    "            return 'Right'\n",
    "        elif location == loc_B:\n",
    "            return 'Left'\n",
    "    return Agent(program)"
   ]
  },
  {
   "cell_type": "markdown",
   "metadata": {},
   "source": [
    "# Probando el agente aspirador en su entorno"
   ]
  },
  {
   "cell_type": "code",
   "execution_count": 39,
   "metadata": {},
   "outputs": [
    {
     "name": "stdout",
     "output_type": "stream",
     "text": [
      "Desempeño del agente = 17 \n"
     ]
    }
   ],
   "source": [
    "\"\"\"Crea un agente reflexivo para el entorno del aspirador de 2 posiciones y lo coloca en posicion loc_A\"\"\"\n",
    "a = ReflexVacuumAgent()\n",
    "a.location = loc_A\n",
    "\n",
    "\"\"\"Crea el entorno del aspirador de 2 posiciones con ambas posiciones en estado 'Dirty'\"\"\"\n",
    "e = VacuumEnvironment()\n",
    "e.status = {loc_A: 'Dirty',  loc_B: 'Dirty'}\n",
    "\n",
    "\"\"\"Añade el agente creado al entorno\"\"\"\n",
    "e.add_thing(a) \n",
    "\n",
    "\"\"\"Ejecuta el entorno 5 pasos y obtiene el desempeño del agente\"\"\"\n",
    "e.run(5)\n",
    "print(\"Desempeño del agente = {} \".format(a.performance)) "
   ]
  },
  {
   "cell_type": "markdown",
   "metadata": {
    "collapsed": true
   },
   "source": [
    "# Preguntas:\n",
    "\n",
    "1) <b>Cual es el error del programa del agente y cual es su solución?<b> (12 puntos)\n",
    "\n",
    "El error está en que limpia cuando estaba en Clean, entonces nunca limpiaba, ya que inicialmente los dos locations estaban en Dirty. La solución está en cambiar el status == 'Dirty' para que limpie, es decir, return 'Suck'.\n",
    "\n",
    "\n",
    " def ReflexVacuumAgent():\n",
    "    \n",
    "    def program(percept):\n",
    "        location, status = percept\n",
    "        if status == 'Clean':           //En esta línea se encuentra el error\n",
    "            return 'Suck'\n",
    "        elif location == loc_A:\n",
    "            return 'Right'\n",
    "        elif location == loc_B:\n",
    "            return 'Left'\n",
    "    return Agent(program)\n",
    "    \n",
    "/////SOLUCIÓN//////\n",
    " def ReflexVacuumAgent():\n",
    "    \n",
    "    def program(percept):\n",
    "        location, status = percept\n",
    "        if status == 'Dirty':       //Corrección\n",
    "            return 'Suck'\n",
    "        elif location == loc_A:\n",
    "            return 'Right'\n",
    "        elif location == loc_B:\n",
    "            return 'Left'\n",
    "    return Agent(program)\n",
    "\n",
    "2) <b>Cual es el valor de performance del agente (corregido) despues de 5 pasos de ejecución del entorno?<b> (4 puntos)\n",
    "\n",
    "El valor de performance del agente corregido es 17.\n",
    "\n",
    "3) <b>Cual es el minimo numero de pasos que se tiene que hacer en el ambiente para asegurar que este este limpio y cual seria el valor de performance del agente?<b> (4 puntos)\n",
    "\n",
    "El mínimo número de pasos es 3 para asegurar que el ambiente esté limpio. Y el valor de performance del agente es 19. Este es porque en 3 pasos logra obtener el mayor desempeño posible, mientras que después el desempeño va disminuyendo. "
   ]
  }
 ],
 "metadata": {
  "kernelspec": {
   "display_name": "Python 3",
   "language": "python",
   "name": "python3"
  },
  "language_info": {
   "codemirror_mode": {
    "name": "ipython",
    "version": 3
   },
   "file_extension": ".py",
   "mimetype": "text/x-python",
   "name": "python",
   "nbconvert_exporter": "python",
   "pygments_lexer": "ipython3",
   "version": "3.6.1"
  }
 },
 "nbformat": 4,
 "nbformat_minor": 2
}
