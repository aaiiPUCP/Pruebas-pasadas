{
 "cells": [
  {
   "cell_type": "markdown",
   "metadata": {
    "collapsed": true
   },
   "source": [
    "# APLICACIONES EN CIENCIAS DE COMPUTACION"
   ]
  },
  {
   "cell_type": "markdown",
   "metadata": {},
   "source": [
    "## Laboratorio 3: Algoritmo Genetico para resolver el problema de las n-reinas\n",
    "\n",
    "Abajo está la implementacion de un algoritmo genético para resolver el problema de las n-reinas. La clase Individual_nqueens implementa el individuo para este problema. Tiene 2 atributos: chromosome y fitness. Cromosome es una lista, donde el elemento i indica la posicion de la reina en la columna i. El fitness es el nro de pares de reinas que no se atacan y se puede obtener llamando a la funcion fitness_nqueens(). La clase individuo también implementa el operador de cruzamiento de un punto (crossover_onepoint), el operador de mutacion de una posicion (mutate_position) y el operador de mutacion swap (mutate_swap). \n",
    "\n",
    "La tarea de este laboratorio consiste en implementar un operador de cruzamiento de permutaciones (crossover_permutation) con el fin de que el AG trabaje en el espacio de permutaciones.\n",
    "\n",
    "Al final de este notebook puede encontrar las tareas y cuestiones que seran evaluadas en este laboratorio."
   ]
  },
  {
   "cell_type": "markdown",
   "metadata": {},
   "source": [
    "<b>Clase abstracta de un individuo de algoritmo genético (no modificar)</b>"
   ]
  },
  {
   "cell_type": "code",
   "execution_count": null,
   "metadata": {
    "collapsed": true
   },
   "outputs": [],
   "source": [
    "class Individual:\n",
    "    \"Clase abstracta para individuos de un algoritmo evolutivo.\"\n",
    "\n",
    "    def __init__(self, chromosome):\n",
    "        self.chromosome = chromosome\n",
    "\n",
    "    def crossover(self, other):\n",
    "        \"Retorna un nuevo individuo cruzando self y other.\"\n",
    "        raise NotImplementedError\n",
    "        \n",
    "    def mutate(self):\n",
    "        \"Cambia los valores de algunos genes.\"\n",
    "        raise NotImplementedError        "
   ]
  },
  {
   "cell_type": "markdown",
   "metadata": {},
   "source": [
    "<b>Clase concreta de un individuo del problema de las n-reinas</b> (Falta implementar crossover_uniform y mutate_position)"
   ]
  },
  {
   "cell_type": "code",
   "execution_count": null,
   "metadata": {
    "collapsed": true
   },
   "outputs": [],
   "source": [
    "import random\n",
    "\n",
    "class Individual_nqueens(Individual):\n",
    "    \"Clase que implementa el individuo en el problema de las n-reinas.\"\n",
    "\n",
    "    def __init__(self, chromosome):\n",
    "        self.chromosome = chromosome[:]\n",
    "        self.fitness = -1\n",
    "\n",
    "    def crossover_onepoint(self, other):\n",
    "        \"Retorna dos nuevos individuos del cruzamiento de un punto entre self y other \"\n",
    "        c = random.randrange(len(self.chromosome))\n",
    "        ind1 = Individual_nqueens(self.chromosome[:c] + other.chromosome[c:])\n",
    "        ind2 = Individual_nqueens(other.chromosome[:c] + self.chromosome[c:])\n",
    "        return [ind1, ind2]   \n",
    "    \n",
    "    def crossover_permutation(self, other):\n",
    "        \"Retorna dos nuevos individuos del cruzamiento de permutacion entre self y other \"\n",
    "        #TODO\n",
    "        \n",
    "    \n",
    "    def crossover_uniform(self, other):\n",
    "        chromosome1 = []\n",
    "        chromosome2 = []\n",
    "        \"Retorna dos nuevos individuos del cruzamiento uniforme entre self y other \"\n",
    "        for i in range(len(self.chromosome)):\n",
    "            if random.uniform(0, 1) < 0.5:\n",
    "                chromosome1.append(self.chromosome[i])\n",
    "                chromosome2.append(other.chromosome[i])\n",
    "            else:\n",
    "                chromosome1.append(other.chromosome[i])\n",
    "                chromosome2.append(self.chromosome[i])\n",
    "        ind1 = Individual_nqueens(chromosome1)\n",
    "        ind2 = Individual_nqueens(chromosome2)\n",
    "        return [ind1, ind2] \n",
    "\n",
    "    def mutate_position(self):\n",
    "        \"Cambia aleatoriamente la posicion de una reina.\"\n",
    "        mutated_ind = Individual_nqueens(self.chromosome[:])\n",
    "        indexPos = random.randint(0, len(mutated_ind.chromosome)-1)\n",
    "        newPos = random.randint(0, len(mutated_ind.chromosome)-1)\n",
    "        mutated_ind.chromosome[indexPos] = newPos\n",
    "        return mutated_ind\n",
    "        \n",
    "        \n",
    "    def mutate_swap(self):\n",
    "        \"Intercambia la posicion de dos genes.\"\n",
    "        mutated_ind = Individual_nqueens(self.chromosome[:])\n",
    "        indexOne = random.randint(0,len(mutated_ind.chromosome)-1)\n",
    "        indexTwo = random.randint(0,len(mutated_ind.chromosome)-1)\n",
    "        temp = mutated_ind.chromosome[indexOne]\n",
    "        mutated_ind.chromosome[indexOne] = mutated_ind.chromosome[indexTwo]\n",
    "        mutated_ind.chromosome[indexTwo] = temp\n",
    "        return mutated_ind"
   ]
  },
  {
   "cell_type": "markdown",
   "metadata": {},
   "source": [
    "<b>Funcion de fitness para evaluar un individuo del problema de las n-reinas</b>"
   ]
  },
  {
   "cell_type": "code",
   "execution_count": null,
   "metadata": {
    "collapsed": true
   },
   "outputs": [],
   "source": [
    "def fitness_nqueens(chromosome):\n",
    "    \"\"\"Retorna el fitness de un cromosoma en el problema de las n-reinas (nro de pares de reinas no atacadas) \"\"\"\n",
    "    n = len(chromosome)  # nro de reinas\n",
    "    fitness = 0\n",
    "    for i in range(n-1):\n",
    "        for j in range(i+1, n):\n",
    "            # si el par de reinas i, j  no etan en la misma fila o diagonales => par no atacado\n",
    "            if chromosome[j] not in [chromosome[i], chromosome[i] - (j-i),  chromosome[i] + (j-i)]:\n",
    "                fitness = fitness + 1\n",
    "    return fitness"
   ]
  },
  {
   "cell_type": "markdown",
   "metadata": {},
   "source": [
    "<b>Funcion para evaluar toda una población de individuos con la funcion de fitnes especificada</b>"
   ]
  },
  {
   "cell_type": "code",
   "execution_count": null,
   "metadata": {
    "collapsed": true
   },
   "outputs": [],
   "source": [
    "def evaluate_population(population, fitness_fn):\n",
    "    \"\"\" Evalua una poblacion de individuos con la funcion de fitness pasada \"\"\"\n",
    "    popsize = len(population)\n",
    "    for i in range(popsize):\n",
    "        if population[i].fitness == -1:    # si el individuo no esta evaluado\n",
    "            population[i].fitness = fitness_fn(population[i].chromosome)"
   ]
  },
  {
   "cell_type": "markdown",
   "metadata": {},
   "source": [
    "<b>Funcion que selecciona con el metodo de la ruleta un par de individuos de population para cruzamiento </b>"
   ]
  },
  {
   "cell_type": "code",
   "execution_count": null,
   "metadata": {
    "collapsed": false
   },
   "outputs": [],
   "source": [
    "def select_parents_roulette(population):\n",
    "    popsize = len(population)\n",
    "    \n",
    "    # Escoje el primer padre\n",
    "    sumfitness = sum([indiv.fitness for indiv in population])  # suma total del fitness de la poblacion\n",
    "    pickfitness = random.uniform(0, sumfitness)   # escoge un numero aleatorio entre 0 y sumfitness\n",
    "    cumfitness = 0     # fitness acumulado\n",
    "    for i in range(popsize):\n",
    "        cumfitness += population[i].fitness\n",
    "        if cumfitness > pickfitness: \n",
    "            iParent1 = i\n",
    "            break\n",
    "     \n",
    "    # Escoje el segundo padre, desconsiderando el primer padre\n",
    "    sumfitness = sumfitness - population[iParent1].fitness # retira el fitness del padre ya escogido\n",
    "    pickfitness = random.uniform(0, sumfitness)   # escoge un numero aleatorio entre 0 y sumfitness\n",
    "    cumfitness = 0     # fitness acumulado\n",
    "    for i in range(popsize):\n",
    "        if i == iParent1: continue   # si es el primer padre \n",
    "        cumfitness += population[i].fitness\n",
    "        if cumfitness > pickfitness: \n",
    "            iParent2 = i\n",
    "            break        \n",
    "    return (population[iParent1], population[iParent2])"
   ]
  },
  {
   "cell_type": "markdown",
   "metadata": {},
   "source": [
    "<b>Funcion que selecciona sobrevivientes para la sgte generacion, dada la poblacion actual y poblacion de hijos </b>"
   ]
  },
  {
   "cell_type": "code",
   "execution_count": null,
   "metadata": {
    "collapsed": true
   },
   "outputs": [],
   "source": [
    "def select_survivors(population, offspring_population, numsurvivors):\n",
    "    next_population = []\n",
    "    population.extend(offspring_population) # une las dos poblaciones\n",
    "    isurvivors = sorted(range(len(population)), key=lambda i: population[i].fitness, reverse=True)[:numsurvivors]\n",
    "    for i in range(numsurvivors): next_population.append(population[isurvivors[i]])\n",
    "    return next_population"
   ]
  },
  {
   "cell_type": "markdown",
   "metadata": {},
   "source": [
    "<b>Algoritmo Genetico</b>   \n",
    "Recibe una poblacion inicial, funcion de fitness, numero de generaciones (ngen) y taza de mutación (pmut)"
   ]
  },
  {
   "cell_type": "code",
   "execution_count": null,
   "metadata": {
    "collapsed": true
   },
   "outputs": [],
   "source": [
    "def genetic_algorithm(population, fitness_fn, ngen=100, pmut=0.1):\n",
    "    \"Algoritmo Genetico \"\n",
    "    \n",
    "    popsize = len(population)\n",
    "    evaluate_population(population, fitness_fn)  # evalua la poblacion inicial\n",
    "    ibest = sorted(range(len(population)), key=lambda i: population[i].fitness, reverse=True)[:1]\n",
    "    bestfitness = [population[ibest[0]].fitness]\n",
    "    print(\"Poblacion inicial, best_fitness = {}\".format(population[ibest[0]].fitness))\n",
    "    \n",
    "    for g in range(ngen):   # Por cada generacion\n",
    "        \n",
    "        ## Selecciona las parejas de padres para cruzamiento \n",
    "        mating_pool = []\n",
    "        for i in range(int(popsize/2)): mating_pool.append(select_parents_roulette(population)) \n",
    "        \n",
    "        ## Crea la poblacion descendencia cruzando las parejas del mating pool \n",
    "        offspring_population = []\n",
    "        for i in range(len(mating_pool)): \n",
    "            offspring_population.extend( mating_pool[i][0].crossover_onepoint(mating_pool[i][1]) ) # cruzamiento 1 punto\n",
    "            #offspring_population.extend( mating_pool[i][0].crossover_permutation(mating_pool[i][1]) ) # cruzamiento de permutacion\n",
    "\n",
    "        ## Aplica el operador de mutacion con probabilidad pmut en cada hijo generado\n",
    "        for i in range(len(offspring_population)):\n",
    "            if random.uniform(0, 1) < pmut: \n",
    "                offspring_population[i] = offspring_population[i].mutate_position()   # mutacion de una posicion\n",
    "                #offspring_population[i] = offspring_population[i].mutate_swap()      # mutacion swap\n",
    "        \n",
    "        ## Evalua la poblacion descendencia creada\n",
    "        evaluate_population(offspring_population, fitness_fn)  # evalua la poblacion inicial\n",
    "        \n",
    "        ## Selecciona popsize individuos para la sgte. generación de la union de la pob. actual y  pob. descendencia\n",
    "        population = select_survivors(population, offspring_population, popsize)\n",
    "\n",
    "        ## Almacena la historia del fitness del mejor individuo\n",
    "        ibest = sorted(range(len(population)), key=lambda i: population[i].fitness, reverse=True)[:1]\n",
    "        bestfitness.append(population[ibest[0]].fitness)\n",
    "        print(\"generacion {}, best_fitness = {}\".format(g, population[ibest[0]].fitness))\n",
    "    \n",
    "    return population[ibest[0]], bestfitness  "
   ]
  },
  {
   "cell_type": "markdown",
   "metadata": {},
   "source": [
    " <b>Algoritmo de Busqueda Genetica para el problema de las n-reinas</b>   "
   ]
  },
  {
   "cell_type": "code",
   "execution_count": null,
   "metadata": {
    "collapsed": true
   },
   "outputs": [],
   "source": [
    "def genetic_search_nqueens(fitness_fn, num_queens=10, popsize=8, ngen=100, pmut=0.1):\n",
    "    import random\n",
    "    population = []\n",
    "\n",
    "    ## Crea la poblacion inicial con cromosomas aleatorios\n",
    "    #for i in range(popsize):\n",
    "    #    chromosome = [j for j in range(1,num_queens+1)]\n",
    "    #    random.shuffle(chromosome)\n",
    "    #    population.append( Individual_nqueens(chromosome) )\n",
    "        \n",
    "    ## Crea la poblacion inicial con los siguientes 6 cromosomas    \n",
    "    chromosomes = [[1,2,3,4,5,6,7,8,9,10],\n",
    "                   [5,4,3,2,1,10,9,8,7,6], \n",
    "                   [10,9,8,1,2,3,7,6,5,4], \n",
    "                   [5,6,7,1,2,3,4,8,9,10], \n",
    "                   [2,1,6,7,8,3,4,5,10,9], \n",
    "                   [10,7,8,9,6,5,4,1,2,3]] \n",
    "                   \n",
    "    for i in range(popsize):\n",
    "        population.append( Individual_nqueens(chromosomes[i]) )   \n",
    "        \n",
    "    ## llama al algoritmo genetico para encontrar una solucion al problema de las n reinas\n",
    "    return genetic_algorithm(population, fitness_fn, ngen, pmut)        "
   ]
  },
  {
   "cell_type": "markdown",
   "metadata": {},
   "source": [
    "###### Tareas y cuestiones:\n",
    "\n",
    "<b>1) Comparar el desempeño de los operadores de cruzamiento (10 puntos)</b> \n",
    "\n",
    "Aqui vamos a comparar el desempeño del operador de cruzamiento <b>crossover_onepoint</b> versus <b>crossover_permutation</b>. Para ello experimentaremos en el problema de 10 reinas con 6 individuos predefinidos y taza de mutación = 0 (a fin de centrarnos solo en el efecto de cruzamiento). Ejecute 10 veces el codigo abajo con crossover_onepoint (registrando el mejor fitness en cada ejecución, junto con la generacion donde se alcanza ese mejor fitness) y luego calcule las medias de los valores registrados. Repita el experimento con crossover_permutation (comente la linea de crossover_onepoint y descomente la linea de crossover_permutation en genetic_algorithm() ). La población inicial está predefinida con el fin de que ambos operadores trabajen a partir de la misma poblacion inicial. De esa forma, solo los operadores de cruzamiento estan influyendo en los resultados. "
   ]
  },
  {
   "cell_type": "code",
   "execution_count": null,
   "metadata": {
    "collapsed": false
   },
   "outputs": [],
   "source": [
    "import matplotlib.pyplot as plt\n",
    "best_ind, bestfitness = genetic_search_nqueens(fitness_nqueens, 10, 6, 100, 0.0)\n",
    "plt.plot(bestfitness)\n",
    "plt.show()"
   ]
  },
  {
   "cell_type": "markdown",
   "metadata": {},
   "source": [
    "<b> - ¿Cual de los dos operadores consigue en media mejores resultados en fitness y en # de generaciones de convergencia? </b> Intente dar una explicación al respecto.       "
   ]
  },
  {
   "cell_type": "markdown",
   "metadata": {
    "collapsed": true
   },
   "source": [
    "<b>2) Determinar la influencia de la mutacion  (10 puntos)</b> \n",
    "\n",
    "Ahora vamos a identificar la influencia de los operadores de mutación en el AG. Para ello se hará 2 experimentos con las siguientes configuraciones (cada experimento con 10 repeticiones, registrando el mejor fitness y la generacion de convergencia): 1)  operador de cuzamiento crossover_onepoint con el operador de mutacion de una posicion (mutate_position); y 2) operador de cuzamiento crossover_permutation con el operador de mutacion swap (mutate_swap). La taza de mutación a probar es pmut=0.25 (mutacion sucede en aprox. un 25 % de los hijos). "
   ]
  },
  {
   "cell_type": "code",
   "execution_count": null,
   "metadata": {
    "collapsed": false
   },
   "outputs": [],
   "source": [
    "best_ind, bestfitness = genetic_search_nqueens(fitness_nqueens, 10, 6, 100, 0.25)\n",
    "plt.plot(bestfitness)\n",
    "plt.show()"
   ]
  },
  {
   "cell_type": "markdown",
   "metadata": {},
   "source": [
    "<b> - ¿Los resultados con los operadores de mutación son mejores que con solo cruzamiento? porque? </b>\n",
    "\n",
    "\n",
    "<b> - ¿Cual de las dos configuraciones da en media mejores resultados en fitness y # de generaciones para convergir? </b> Intente dar una justificativa al respecto.  \n",
    "\n"
   ]
  }
 ],
 "metadata": {
  "kernelspec": {
   "display_name": "Python 3",
   "language": "python",
   "name": "python3"
  },
  "language_info": {
   "codemirror_mode": {
    "name": "ipython",
    "version": 3
   },
   "file_extension": ".py",
   "mimetype": "text/x-python",
   "name": "python",
   "nbconvert_exporter": "python",
   "pygments_lexer": "ipython3",
   "version": "3.6.0"
  }
 },
 "nbformat": 4,
 "nbformat_minor": 2
}
