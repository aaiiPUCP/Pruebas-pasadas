{
 "cells": [
  {
   "cell_type": "markdown",
   "metadata": {
    "collapsed": true
   },
   "source": [
    "# APLICACIONES EN CIENCIAS DE COMPUTACION"
   ]
  },
  {
   "cell_type": "markdown",
   "metadata": {},
   "source": [
    "## Laboratorio 3: Operadores de Algoritmos Geneticos para resolver el problema de las n-reinas\n",
    "\n",
    "Abajo puede encontrar la implementacion de un algoritmo genético para resolver el problema de las n-reinas. El algoritmo ya esta implementado y funcionando con algunos operadores basicos. La clase Individual_nqueens implementa el individuo para este problema. Tiene 2 atributos: chromosome y fitness. Cromosome es una lista, donde el elemento i indica la posicion de la reina en la columna i. El fitness es el nro de pares de reinas que no se atacan y se puede obtener llamando a la funcion fitness_nqueens(). La clase individuo también implementa el operador de cruzamiento de un punto (crossover_onepoint) y el operador de mutacion swap (mutate_swap). \n",
    "\n",
    "La tarea de este laboratorio consiste en implementar en la clase Individual_nqueensen dos nuevos operadores (marcados con #TODO): el operador de cruzamiento uniforme (crossover_uniform) y el operador de mutación que cambia aleatoriamente la posicion de una reina (mutate_position).\n",
    "\n",
    "Al final de este notebook puede encontrar las tareas y cuestiones que seran evaluadas en este laboratorio."
   ]
  },
  {
   "cell_type": "markdown",
   "metadata": {},
   "source": [
    "<b>Clase abstracta de un individuo de algoritmo genético (no modificar)</b>"
   ]
  },
  {
   "cell_type": "code",
   "execution_count": 2,
   "metadata": {
    "collapsed": true
   },
   "outputs": [],
   "source": [
    "class Individual:\n",
    "    \"Clase abstracta para individuos de un algoritmo evolutivo.\"\n",
    "\n",
    "    def __init__(self, chromosome):\n",
    "        self.chromosome = chromosome\n",
    "\n",
    "    def crossover(self, other):\n",
    "        \"Retorna un nuevo individuo cruzando self y other.\"\n",
    "        raise NotImplementedError\n",
    "        \n",
    "    def mutate(self):\n",
    "        \"Cambia los valores de algunos genes.\"\n",
    "        raise NotImplementedError        "
   ]
  },
  {
   "cell_type": "markdown",
   "metadata": {},
   "source": [
    "<b>Clase concreta de un individuo del problema de las n-reinas</b> (Falta implementar crossover_uniform y mutate_position)"
   ]
  },
  {
   "cell_type": "code",
   "execution_count": 36,
   "metadata": {
    "collapsed": false
   },
   "outputs": [],
   "source": [
    "import random\n",
    "\n",
    "class Individual_nqueens(Individual):\n",
    "    \"Clase que implementa el individuo en el problema de las n-reinas.\"\n",
    "\n",
    "    def __init__(self, chromosome):\n",
    "        self.chromosome = chromosome[:]\n",
    "        self.fitness = -1\n",
    "\n",
    "    def crossover_onepoint(self, other):\n",
    "        \"Retorna dos nuevos individuos del cruzamiento de un punto entre self y other \"\n",
    "        c = random.randrange(len(self.chromosome))\n",
    "        ind1 = Individual_nqueens(self.chromosome[:c] + other.chromosome[c:])\n",
    "        ind2 = Individual_nqueens(other.chromosome[:c] + self.chromosome[c:])\n",
    "        return [ind1, ind2]   \n",
    "    \n",
    "    def crossover_uniform(self, other):\n",
    "        \"Retorna dos nuevos individuos del cruzamiento uniforme entre self y other \"\n",
    "        #TODO\n",
    "      \n",
    "        ind1=[]\n",
    "        ind2=[]\n",
    "        \n",
    "        for i in range(0,len(self.chromosome)):            \n",
    "            if (round(random.random())==0):\n",
    "                ind1.append(self.chromosome[i])\n",
    "                ind2.append(other.chromosome[i])\n",
    "            else:\n",
    "                ind1.append(other.chromosome[i])\n",
    "                ind2.append(self.chromosome[i])\n",
    "                \n",
    "        ind1=Individual_nqueens(ind1)\n",
    "        ind2=Individual_nqueens(ind2)\n",
    "        \n",
    "        return [ind1, ind2]\n",
    "          \n",
    "\n",
    "    def mutate_position(self):\n",
    "        \"Cambia aleatoriamente la posicion de una reina.\"\n",
    "        #TODO\n",
    "        #Debemos de conseguir una posición aleatoria\n",
    "        i= random.randrange(len(self.chromosome))\n",
    "        \n",
    "        mutated_ind = Individual_nqueens(self.chromosome[:])\n",
    "        \n",
    "        mutated_ind.chromosome[i]= random.randrange(len(self.chromosome))+1\n",
    "        \n",
    "        return mutated_ind\n",
    "            \n",
    "        \n",
    "    def mutate_swap(self):\n",
    "        \"Intercambia la posicion de dos genes.\"\n",
    "        mutated_ind = Individual_nqueens(self.chromosome[:])\n",
    "        indexOne = random.randint(0,len(mutated_ind.chromosome)-1)\n",
    "        indexTwo = random.randint(0,len(mutated_ind.chromosome)-1)\n",
    "        temp = mutated_ind.chromosome[indexOne]\n",
    "        mutated_ind.chromosome[indexOne] = mutated_ind.chromosome[indexTwo]\n",
    "        mutated_ind.chromosome[indexTwo] = temp\n",
    "        return mutated_ind"
   ]
  },
  {
   "cell_type": "markdown",
   "metadata": {},
   "source": [
    "<b>Funcion de fitness para evaluar un individuo del problema de las n-reinas</b>"
   ]
  },
  {
   "cell_type": "code",
   "execution_count": 37,
   "metadata": {
    "collapsed": true
   },
   "outputs": [],
   "source": [
    "def fitness_nqueens(chromosome):\n",
    "    \"\"\"Retorna el fitness de un cromosoma en el problema de las n-reinas (nro de pares de reinas no atacadas) \"\"\"\n",
    "    n = len(chromosome)  # nro de reinas\n",
    "    fitness = 0\n",
    "    for i in range(n-1):\n",
    "        for j in range(i+1, n):\n",
    "            # si el par de reinas i, j  no etan en la misma fila o diagonales => par no atacado\n",
    "            if chromosome[j] not in [chromosome[i], chromosome[i] - (j-i),  chromosome[i] + (j-i)]:\n",
    "                fitness = fitness + 1\n",
    "    return fitness"
   ]
  },
  {
   "cell_type": "markdown",
   "metadata": {},
   "source": [
    "<b>Funcion para evaluar toda una población de individuos con la funcion de fitnes especificada</b>"
   ]
  },
  {
   "cell_type": "code",
   "execution_count": 38,
   "metadata": {
    "collapsed": true
   },
   "outputs": [],
   "source": [
    "def evaluate_population(population, fitness_fn):\n",
    "    \"\"\" Evalua una poblacion de individuos con la funcion de fitness pasada \"\"\"\n",
    "    popsize = len(population)\n",
    "    for i in range(popsize):\n",
    "        if population[i].fitness == -1:    # si el individuo no esta evaluado\n",
    "            population[i].fitness = fitness_fn(population[i].chromosome)"
   ]
  },
  {
   "cell_type": "markdown",
   "metadata": {},
   "source": [
    "<b>Funcion que selecciona con el metodo de la ruleta un par de individuos de population para cruzamiento </b>"
   ]
  },
  {
   "cell_type": "code",
   "execution_count": 39,
   "metadata": {
    "collapsed": false
   },
   "outputs": [],
   "source": [
    "def select_parents_roulette(population):\n",
    "    popsize = len(population)\n",
    "    \n",
    "    # Escoje el primer padre\n",
    "    sumfitness = sum([indiv.fitness for indiv in population])  # suma total del fitness de la poblacion\n",
    "    pickfitness = random.uniform(0, sumfitness)   # escoge un numero aleatorio entre 0 y sumfitness\n",
    "    cumfitness = 0     # fitness acumulado\n",
    "    for i in range(popsize):\n",
    "        cumfitness += population[i].fitness\n",
    "        if cumfitness > pickfitness: \n",
    "            iParent1 = i\n",
    "            break\n",
    "     \n",
    "    # Escoje el segundo padre, desconsiderando el primer padre\n",
    "    sumfitness = sumfitness - population[iParent1].fitness # retira el fitness del padre ya escogido\n",
    "    pickfitness = random.uniform(0, sumfitness)   # escoge un numero aleatorio entre 0 y sumfitness\n",
    "    cumfitness = 0     # fitness acumulado\n",
    "    for i in range(popsize):\n",
    "        if i == iParent1: continue   # si es el primer padre \n",
    "        cumfitness += population[i].fitness\n",
    "        if cumfitness > pickfitness: \n",
    "            iParent2 = i\n",
    "            break        \n",
    "    return (population[iParent1], population[iParent2])"
   ]
  },
  {
   "cell_type": "markdown",
   "metadata": {},
   "source": [
    "<b>Funcion que selecciona sobrevivientes para la sgte generacion, dada la poblacion actual y poblacion de hijos </b>"
   ]
  },
  {
   "cell_type": "code",
   "execution_count": 40,
   "metadata": {
    "collapsed": true
   },
   "outputs": [],
   "source": [
    "def select_survivors(population, offspring_population, numsurvivors):\n",
    "    next_population = []\n",
    "    population.extend(offspring_population) # une las dos poblaciones\n",
    "    isurvivors = sorted(range(len(population)), key=lambda i: population[i].fitness, reverse=True)[:numsurvivors]\n",
    "    for i in range(numsurvivors): next_population.append(population[isurvivors[i]])\n",
    "    return next_population"
   ]
  },
  {
   "cell_type": "markdown",
   "metadata": {},
   "source": [
    "<b>Algoritmo Genetico</b>   \n",
    "Recibe una poblacion inicial, funcion de fitness, numero de generaciones (ngen) y taza de mutación (pmut)"
   ]
  },
  {
   "cell_type": "code",
   "execution_count": 67,
   "metadata": {
    "collapsed": true
   },
   "outputs": [],
   "source": [
    "def genetic_algorithm(population, fitness_fn, ngen=100, pmut=0.1):\n",
    "    \"Algoritmo Genetico \"\n",
    "    \n",
    "    popsize = len(population)\n",
    "    evaluate_population(population, fitness_fn)  # evalua la poblacion inicial\n",
    "    ibest = sorted(range(len(population)), key=lambda i: population[i].fitness, reverse=True)[:1]\n",
    "    bestfitness = [population[ibest[0]].fitness]\n",
    "    print(\"Poblacion inicial, best_fitness = {}\".format(population[ibest[0]].fitness))\n",
    "    \n",
    "    for g in range(ngen):   # Por cada generacion\n",
    "        \n",
    "        ## Selecciona las parejas de padres para cruzamiento \n",
    "        mating_pool = []\n",
    "        for i in range(int(popsize/2)): mating_pool.append(select_parents_roulette(population)) \n",
    "        \n",
    "        ## Crea la poblacion descendencia cruzando las parejas del mating pool \n",
    "        offspring_population = []\n",
    "        for i in range(len(mating_pool)): \n",
    "            #offspring_population.extend( mating_pool[i][0].crossover_onepoint(mating_pool[i][1]) ) # cruzamiento 1 punto\n",
    "            offspring_population.extend( mating_pool[i][0].crossover_uniform(mating_pool[i][1]) ) # cruzamiento uniforme\n",
    "\n",
    "        ## Aplica el operador de mutacion con probabilidad pmut en cada hijo generado\n",
    "        for i in range(len(offspring_population)):\n",
    "            if random.uniform(0, 1) < pmut: \n",
    "                #offspring_population[i] = offspring_population[i].mutate_swap()        # mutacion swap\n",
    "                offspring_population[i] = offspring_population[i].mutate_position()   # mutacion de una posicion\n",
    "        \n",
    "        ## Evalua la poblacion descendencia creada\n",
    "        evaluate_population(offspring_population, fitness_fn)  # evalua la poblacion inicial\n",
    "        \n",
    "        ## Selecciona popsize individuos para la sgte. generación de la union de la pob. actual y  pob. descendencia\n",
    "        population = select_survivors(population, offspring_population, popsize)\n",
    "\n",
    "        ## Almacena la historia del fitness del mejor individuo\n",
    "        ibest = sorted(range(len(population)), key=lambda i: population[i].fitness, reverse=True)[:1]\n",
    "        bestfitness.append(population[ibest[0]].fitness)\n",
    "        print(\"generacion {}, best_fitness = {}\".format(g, population[ibest[0]].fitness))\n",
    "    \n",
    "    return population[ibest[0]], bestfitness  "
   ]
  },
  {
   "cell_type": "markdown",
   "metadata": {},
   "source": [
    " <b>Algoritmo de Busqueda Genetica para el problema de las n-reinas</b>   "
   ]
  },
  {
   "cell_type": "code",
   "execution_count": 68,
   "metadata": {
    "collapsed": true
   },
   "outputs": [],
   "source": [
    "def genetic_search_nqueens(fitness_fn, num_queens=10, popsize=10, ngen=100, pmut=0.1):\n",
    "    import random\n",
    "    population = []\n",
    "\n",
    "    ## Crea la poblacion inicial con cromosomas aleatorios\n",
    "    #for i in range(popsize):\n",
    "    #    chromosome = [j for j in range(1,num_queens+1)]\n",
    "    #    random.shuffle(chromosome)\n",
    "    #    population.append( Individual_nqueens(chromosome) )\n",
    "        \n",
    "    ## Crea la poblacion inicial con los siguientes cromosomas    \n",
    "    chromosomes = [[1,3,1,3,1,3,1,3,1,3],\n",
    "                   [2,4,2,4,2,4,2,4,2,4],\n",
    "                   [3,5,3,5,3,5,3,5,3,5],\n",
    "                   [4,6,4,6,4,6,4,6,4,6],\n",
    "                   [5,7,5,7,5,7,5,7,5,7],\n",
    "                   [6,8,6,8,6,8,6,8,6,8],\n",
    "                   [7,9,7,9,7,9,7,9,7,9],\n",
    "                   [8,10,8,10,8,10,8,10,8,10],\n",
    "                   [9,1,9,1,9,1,9,1,9,1],\n",
    "                   [10,2,10,2,10,2,10,2,10,2] ]   \n",
    "    for i in range(popsize):\n",
    "        population.append( Individual_nqueens(chromosomes[i]) )   \n",
    "        \n",
    "    ## llama al algoritmo genetico para encontrar una solucion al problema de las n reinas\n",
    "    return genetic_algorithm(population, fitness_fn, ngen, pmut)        "
   ]
  },
  {
   "cell_type": "markdown",
   "metadata": {},
   "source": [
    "# Tareas y cuestiones:\n",
    "\n",
    "<b>1) Comparar el desempeño de los operadores de cruzamiento (8 puntos)</b> \n",
    "\n",
    "Aqui vamos a comparar el desempeño de los 2 operadores de cruzamiento implementados. Para ello probaremos en el problema de 10 reinas, 10 individuos y taza de mutación = 0 (a fin de centrarnos solo en el efecto de cruzamiento). Ejecute 10 veces el codigo abajo con crossover_onepoint (registrando el best_fitness de la generacion 99 en cada ejecución) y luego calcule la media de los valores registrados. Repita el experimento con crossover_uniform (comente la linea de crossover_onepoint y descomente la linea de crossover_uniform  en genetic_algorithm() ). Note que la funcion genetic_search_nqueens tiene una población inicial predefinida. Esto se ha hecho para descontar también la variabilidad de la poblacion inicial, asi solo la calidad de los operadores estaria influyendo en los resultados. "
   ]
  },
  {
   "cell_type": "code",
   "execution_count": 56,
   "metadata": {
    "collapsed": false
   },
   "outputs": [],
   "source": [
    "import matplotlib.pyplot as plt\n",
    "best_ind, bestfitness = genetic_search_nqueens(fitness_nqueens, 10, 10, 100, 0.0)\n",
    "plt.plot(bestfitness)\n",
    "plt.show()"
   ]
  },
  {
   "cell_type": "markdown",
   "metadata": {},
   "source": [
    "<b> - ¿Cual de los dos operadores de cruzamiento consigue en media mejores resultados? </b> Intente dar una justificativa al respecto.       \n",
    "\n",
    "Crossover one point:\n",
    "Lista con los 10 mejores fitness de muestra (Generación 99) = [37,42,39,39,42,40,39,41,40,40].\n",
    "Media= 39.9\n",
    "\n",
    "Crossover uniform:\n",
    "Lista con los 10 mejores fitness de muestra (Generación 99) = [41,42,40,42,42,43,40,41,42,39].\n",
    "Media= 41.2\n",
    "\n",
    "<b> El operador de cruzamiento uniforme da una media mayor, por lo que consigue un mejor fitness en la muestra. </b>\n",
    "\n",
    " La justificativa que se puede ver, es que mientras que el cruzamiento en un punto genera hijos parcialmente diferentes (un intercambio de cromosomas en bloque) y genera hijos con menos diversidad; el cruzamiento uniforme es aleatorio y genera una diferente estructura y más diversa en los individuos."
   ]
  },
  {
   "cell_type": "markdown",
   "metadata": {
    "collapsed": true
   },
   "source": [
    "<b>2) Buscar la mejor combinación de operadores (12 puntos)</b> \n",
    "\n",
    "Ahora deberá identificar el mejor operador de mutación para trabajar junto con el operador de cruzamiento indentificado en la tarea anterior. Para ello deberá realizar 2 experimentos similares a la tarea 1: deje fijo el operador de cruzamiento identificado en la tarea 1 y experimente cada operador de mutacion por separado (ejecutando 10 veces el codigo abajo). La taza de mutación a probar es pmut=0.25 (mutacion sucede en aprox. un 25 % de los hijos). "
   ]
  },
  {
   "cell_type": "code",
   "execution_count": 79,
   "metadata": {
    "collapsed": false
   },
   "outputs": [],
   "source": [
    "best_ind, bestfitness = genetic_search_nqueens(fitness_nqueens, 10, 10, 100, 0.25)\n",
    "plt.plot(bestfitness)\n",
    "plt.show()"
   ]
  },
  {
   "cell_type": "markdown",
   "metadata": {},
   "source": [
    "Crossover uniform + mutación swap:\n",
    "Lista con los 10 mejores fitness de muestra (Generación 99) = [43,45,41,43,41,40,42,43,43,42].\n",
    "Media= 42.3\n",
    "\n",
    "Crossover uniform + mutación position:\n",
    "Lista con los 10 mejores fitness de muestra (Generación 99) = [44,43,44,44,43,44,42,43,43,44].\n",
    "Media= 43.4\n",
    "\n",
    "<b> - ¿Los resultados con los operadores de mutación son mejores que con solo cruzamiento? porque? </b>\n",
    "\n",
    "Sí son mejores, en ambos casos. Esto se debe a que tras el cruce, los hijos salen diversos al estado inicial y esto es maximizado al mutar tras su concepción.\n",
    "\n",
    "<b> - ¿Con cuál de los dos operadores de mutación se consigue en media mejores resultados? </b> Intente dar una justificativa al respecto.      \n",
    "\n",
    "Se consigue los mejores resultados al combinar el cruzamiento uniforme con la mutación por posición. Esto se debe a que mientras que un swap simplemente hace un cambio entre dos valores ya existentes; la mutación por posición genera un cambio mucho más diverso en cuanto a posiciones no existentes en los cromosomas iniciales."
   ]
  }
 ],
 "metadata": {
  "kernelspec": {
   "display_name": "Python 2",
   "language": "python",
   "name": "python2"
  },
  "language_info": {
   "codemirror_mode": {
    "name": "ipython",
    "version": 2
   },
   "file_extension": ".py",
   "mimetype": "text/x-python",
   "name": "python",
   "nbconvert_exporter": "python",
   "pygments_lexer": "ipython2",
   "version": "2.7.13"
  }
 },
 "nbformat": 4,
 "nbformat_minor": 2
}
