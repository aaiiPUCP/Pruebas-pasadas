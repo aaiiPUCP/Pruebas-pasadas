{
 "cells": [
  {
   "cell_type": "markdown",
   "metadata": {
    "collapsed": true
   },
   "source": [
    "# APLICACIONES EN CIENCIAS DE COMPUTACION"
   ]
  },
  {
   "cell_type": "markdown",
   "metadata": {},
   "source": [
    "## Laboratorio 1: Definicion de Problema de Busqueda de Rutas\n",
    "\n",
    "La tarea de este laboratorio consiste en definir el problema de busqueda de rutas entre dos puntos en un mapa dado. Especificamente se pide implementar la clase MapSearchProblem, que es una subclase de la clase genérica Problem. El constructor de MapSearchProblem recibe: la ciudad inicial (initial), la ciudad donde se quiere llegar (goal) y un mapa. Abajo puede encontrar la definición de la clase Problem y la clase que tiene que implementar MapSearchProblem. Hay que implementar los métodos indicados con #TODO. \n",
    "\n",
    "El mapa es un diccionario, cada entrada almacena las ciudades vecinas de una ciudad y los respectivos costos (distancias) para acanzarlas. Un ejemplo de la estructura mapa es mostrado abajo para el mapa de Romania"
   ]
  },
  {
   "cell_type": "markdown",
   "metadata": {},
   "source": [
    "<b> Clase genérica Problem (no modificar) </b>"
   ]
  },
  {
   "cell_type": "code",
   "execution_count": 8,
   "metadata": {
    "collapsed": true
   },
   "outputs": [],
   "source": [
    "class Problem(object):\n",
    "    def __init__(self, initial, goal=None):\n",
    "        \"\"\"Este constructor especifica el estado inicial y posiblemente el estado(s) objetivo(s),\n",
    "        La subclase puede añadir mas argumentos.\"\"\"\n",
    "        self.initial = initial\n",
    "        self.goal = goal\n",
    "\n",
    "    def actions(self, state):\n",
    "        \"\"\"Retorna las acciones que pueden ser ejecutadas en el estado dado.\n",
    "        El resultado es tipicamente una lista.\"\"\"\n",
    "        raise NotImplementedError\n",
    "\n",
    "    def result(self, state, action):\n",
    "        \"\"\"Retorna el estado que resulta de ejecutar la accion dada en el estado state.\n",
    "        La accion debe ser alguna de self.actions(state).\"\"\"\n",
    "        raise NotImplementedError\n",
    "\n",
    "    def goal_test(self, state):\n",
    "        \"\"\"Retorna True si el estado pasado satisface el objetivo.\"\"\"\n",
    "        raise NotImplementedError\n",
    "\n",
    "    def path_cost(self, c, state1, action, state2):\n",
    "        \"\"\"Retorna el costo del camino de state2 viniendo de state1 con \n",
    "        la accion action, asumiendo un costo c para llegar hasta state1. \n",
    "        El metodo por defecto cuesta 1 para cada paso en el camino.\"\"\"\n",
    "        return c + 1\n",
    "\n",
    "    def value(self, state):\n",
    "        \"\"\"En problemas de optimizacion, cada estado tiene un valor. Algoritmos\n",
    "        como Hill-climbing intentan maximizar este valor.\"\"\"\n",
    "        raise NotImplementedError"
   ]
  },
  {
   "cell_type": "code",
   "execution_count": null,
   "metadata": {
    "collapsed": false
   },
   "outputs": [],
   "source": []
  },
  {
   "cell_type": "markdown",
   "metadata": {},
   "source": [
    "<b> Clase a implementar </b>"
   ]
  },
  {
   "cell_type": "code",
   "execution_count": 23,
   "metadata": {
    "collapsed": false
   },
   "outputs": [],
   "source": [
    "class MapSearchProblem(Problem):\n",
    "    def __init__(self, initial, goal, mapa):\n",
    "        \"\"\"El constructor recibe  el estado inicial, el estado objetivo y un mapa\"\"\"\n",
    "        self.initial = initial\n",
    "        self.goal = goal\n",
    "        self.map = mapa\n",
    "\n",
    "    def actions(self, state):\n",
    "        \"\"\"Retorna las acciones ejecutables desde ciudad state.\n",
    "        El resultado es una lista de strings tipo 'goCity'. \n",
    "        Por ejemplo, en el mapa de Romania, las acciones desde Arad serian:\n",
    "         ['goZerind', 'goTimisoara', 'goSibiu']\"\"\"\n",
    "        #TODO\n",
    "        \n",
    "        ciudadesCercanas= self.map[state] #[(Z,12,12),(T,451),(S,12)]\n",
    "        self.actio=['go'+ i for i,j in ciudadesCercanas]  \n",
    "        return self.actio\n",
    "        raise NotImplementedError\n",
    "      \n",
    "\n",
    "    def result(self, state, action):\n",
    "        \"\"\"Retorna el estado que resulta de ejecutar la accion dada desde ciudad state.\n",
    "        La accion debe ser alguna de self.actions(state)\n",
    "        Por ejemplo, en el mapa de Romania, el resultado de aplicar la accion 'goZerind' \n",
    "        desde el estado 'Arad' seria 'Zerind'\"\"\"  \n",
    "        #TODO\n",
    "        for act in self.actions(state):\n",
    "            if act==action:\n",
    "                #act= goCity\n",
    "                #act[2:]=City\n",
    "                self.state=act[2:]  \n",
    "        return self.state        \n",
    "        raise NotImplementedError\n",
    "        \n",
    "    def goal_test(self, state):\n",
    "        \"\"\"Retorna True si state es self.goal\"\"\"\n",
    "        #TODO       \n",
    "        return state==self.goal\n",
    "        raise NotImplementedError\n",
    "\n",
    "    def path_cost(self, c, state1, action, state2):\n",
    "        \"\"\"Retorna el costo del camino de state2 viniendo de state1 con la accion action \n",
    "        El costo del camino para llegar a state1 es c. El costo de la accion debe ser\n",
    "        extraido de self.map.\"\"\"\n",
    "        #TODO\n",
    "        costo=0\n",
    "        ciudadesCercanas= self.map[state1]\n",
    "        estadosPosibles=[i for i,j in ciudadesCercanas] #[Z,T,S]\n",
    "        costosPosibles= [j for i,j in ciudadesCercanas] #[75,118,140]\n",
    "        a=0 #índice de iteración\n",
    "        for estado in estadosPosibles:\n",
    "            if estado==state2:\n",
    "                costo=costosPosibles[a]\n",
    "                break\n",
    "            a=a+1                    \n",
    "        self.cost=costo+c\n",
    "        return self.cost\n",
    "        raise NotImplementedError"
   ]
  },
  {
   "cell_type": "markdown",
   "metadata": {},
   "source": [
    "<b> Mapa de Romania de ejemplo para pruebas (las ciudades estan identificadas con su letra inicial) </b>"
   ]
  },
  {
   "cell_type": "code",
   "execution_count": null,
   "metadata": {
    "collapsed": false
   },
   "outputs": [],
   "source": []
  },
  {
   "cell_type": "code",
   "execution_count": 10,
   "metadata": {
    "collapsed": true
   },
   "outputs": [],
   "source": [
    "romania = {\n",
    " 'A': [('Z',75), ('T',118), ('S',140)],\n",
    " 'B': [('F',211), ('P',101), ('G',90), ('U',85)],\n",
    " 'C': [('D',120), ('R',146), ('P',138)],\n",
    " 'D': [('M',75), ('C',120)],\n",
    " 'E': [('H',86)],\n",
    " 'F': [('S',99), ('B',211)],\n",
    " 'G': [('B',90)],\n",
    " 'H': [('U',98), ('E',86)],\n",
    " 'I': [('N',87), ('V',92)],\n",
    " 'L': [('T',111), ('M',70)],\n",
    " 'M': [('L',70), ('D',75)],\n",
    " 'N': [('I',87)],\n",
    " 'O': [('Z',71), ('S',151)],\n",
    " 'P': [('R',97), ('C',138), ('B',101)],\n",
    " 'R': [('S',80), ('C',146), ('P',97)],\n",
    " 'S': [('A',140), ('O',151), ('F',99), ('R',80)],\n",
    " 'T': [('A',118), ('L',111)],\n",
    " 'U': [('B',85), ('V',142), ('H',98)],\n",
    " 'V': [('U',142), ('I',92)],\n",
    " 'Z': [('O',71), ('A',75)]}"
   ]
  },
  {
   "cell_type": "markdown",
   "metadata": {},
   "source": [
    "por ejemplo, para extraer las ciudades vecinas a 'A', tipear"
   ]
  },
  {
   "cell_type": "code",
   "execution_count": 31,
   "metadata": {
    "collapsed": false
   },
   "outputs": [
    {
     "data": {
      "text/plain": [
       "[('Z', 75), ('T', 118), ('S', 140)]"
      ]
     },
     "execution_count": 31,
     "metadata": {},
     "output_type": "execute_result"
    }
   ],
   "source": [
    "romania['A']"
   ]
  },
  {
   "cell_type": "markdown",
   "metadata": {},
   "source": [
    "dará una lista de tres tuplas: [('Z', 75), ('T', 118), ('S', 140)] , cada tupla conteniendo la ciudad y el costo para llegar desde 'A'"
   ]
  },
  {
   "cell_type": "markdown",
   "metadata": {},
   "source": [
    "<b> Probar la implementacion haciendo Busquedas con GraphSearch </b>"
   ]
  },
  {
   "cell_type": "markdown",
   "metadata": {},
   "source": [
    "La clase implementada debera ser testada, instanciando un problema específico de busqueda. Para ello usaremos el mapa de Romania y la ciudad 'A' como inicio y 'B' como objetivo:  "
   ]
  },
  {
   "cell_type": "code",
   "execution_count": 33,
   "metadata": {
    "collapsed": false
   },
   "outputs": [],
   "source": [
    "romania_problem = MapSearchProblem('A', 'B', romania)"
   ]
  },
  {
   "cell_type": "markdown",
   "metadata": {},
   "source": [
    "Una vez instanciado el problema, correr el algoritmo de busqueda graph_search(), pasando como problema romania_problem y como frontera una lista FIFO (Busqueda en amplitud) y una lista tipo pila (Busqueda en profundidad). La implementacion de GraphSearch, lista FIFO y la clase Node (necesaria para GraphSearch) es dada a seguir:      "
   ]
  },
  {
   "cell_type": "code",
   "execution_count": 35,
   "metadata": {
    "collapsed": true
   },
   "outputs": [],
   "source": [
    "class Node:\n",
    "    def __init__(self, state, parent=None, action=None, path_cost=0):\n",
    "        \"Crea un nodo de arbol de busqueda, derivado del nodo parent y accion action\"\n",
    "        self.state = state\n",
    "        self.parent = parent\n",
    "        self.action = action\n",
    "        self.path_cost = path_cost\n",
    "        self.depth = 0\n",
    "        if parent:\n",
    "            self.depth = parent.depth + 1\n",
    "\n",
    "    def expand(self, problem):\n",
    "        \"Devuelve los nodos alcanzables en un paso a partir de este nodo.\"\n",
    "        return [self.child_node(problem, action)\n",
    "                for action in problem.actions(self.state)]\n",
    "\n",
    "    def child_node(self, problem, action):\n",
    "        next = problem.result(self.state, action)\n",
    "        return Node(next, self, action,\n",
    "                    problem.path_cost(self.path_cost, self.state, action, next))\n",
    "\n",
    "    def solution(self):\n",
    "        \"Retorna la secuencia de acciones para ir de la raiz a este nodo.\"\n",
    "        return [node.action for node in self.path()[1:]]\n",
    "\n",
    "    def path(self):\n",
    "        \"Retorna una lista de nodos formando un camino de la raiz a este nodo.\"\n",
    "        node, path_back = self, []\n",
    "        while node:\n",
    "            path_back.append(node)\n",
    "            node = node.parent\n",
    "        return list(reversed(path_back))"
   ]
  },
  {
   "cell_type": "code",
   "execution_count": 36,
   "metadata": {
    "collapsed": true
   },
   "outputs": [],
   "source": [
    "def graph_search(problem, frontier):\n",
    "    frontier.append(Node(problem.initial))\n",
    "    explored = set()\n",
    "    while frontier:\n",
    "        node = frontier.pop()\n",
    "        if problem.goal_test(node.state):\n",
    "            return node\n",
    "        explored.add(node.state)\n",
    "        frontier.extend(child for child in node.expand(problem)\n",
    "                        if child.state not in explored and\n",
    "                        child not in frontier)\n",
    "    return None"
   ]
  },
  {
   "cell_type": "code",
   "execution_count": 37,
   "metadata": {
    "collapsed": true
   },
   "outputs": [],
   "source": [
    "from collections import deque\n",
    "\n",
    "class FIFOQueue(deque):\n",
    "    \"\"\"Una cola First-In-First-Out\"\"\"\n",
    "    def pop(self):\n",
    "        return self.popleft()"
   ]
  },
  {
   "cell_type": "markdown",
   "metadata": {},
   "source": [
    "<b> Ejecutar la busqueda en romania_problem </b>\n",
    "\n",
    "Con estas definiciones ya puede ejecutar la busqueda para nuestro problema romania_problem.\n",
    "\n",
    "Ejecutar busqueda en Amplitud  "
   ]
  },
  {
   "cell_type": "code",
   "execution_count": 43,
   "metadata": {
    "collapsed": false
   },
   "outputs": [
    {
     "name": "stdout",
     "output_type": "stream",
     "text": [
      "['goS', 'goF', 'goB']\n"
     ]
    }
   ],
   "source": [
    "node_solucionBFS = graph_search(romania_problem, FIFOQueue())\n",
    "solucionBFS = node_solucionBFS.solution()\n",
    "print(solucionBFS)"
   ]
  },
  {
   "cell_type": "markdown",
   "metadata": {},
   "source": [
    "Ejecutar busqueda en Profundidad "
   ]
  },
  {
   "cell_type": "code",
   "execution_count": 44,
   "metadata": {
    "collapsed": false
   },
   "outputs": [
    {
     "name": "stdout",
     "output_type": "stream",
     "text": [
      "['goS', 'goR', 'goP', 'goB']\n"
     ]
    }
   ],
   "source": [
    "node_solucionDFS =graph_search(romania_problem, [])  # una lista [] es una pila en Python\n",
    "solucionDFS = node_solucionDFS.solution()\n",
    "print (solucionDFS)"
   ]
  }
 ],
 "metadata": {
  "kernelspec": {
   "display_name": "Python 3",
   "language": "python",
   "name": "python3"
  },
  "language_info": {
   "codemirror_mode": {
    "name": "ipython",
    "version": 3
   },
   "file_extension": ".py",
   "mimetype": "text/x-python",
   "name": "python",
   "nbconvert_exporter": "python",
   "pygments_lexer": "ipython3",
   "version": "3.6.0"
  }
 },
 "nbformat": 4,
 "nbformat_minor": 2
}
