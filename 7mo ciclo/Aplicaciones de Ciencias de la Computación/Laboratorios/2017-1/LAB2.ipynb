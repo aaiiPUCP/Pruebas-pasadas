{
 "cells": [
  {
   "cell_type": "markdown",
   "metadata": {
    "collapsed": true
   },
   "source": [
    "# APLICACIONES EN CIENCIAS DE COMPUTACION"
   ]
  },
  {
   "cell_type": "markdown",
   "metadata": {},
   "source": [
    "## Laboratorio 2: Implementacion de heurísticas para el Problema de Busqueda de Rutas\n",
    "\n",
    "La tarea de este laboratorio consiste en implementar y comparar funciones heurísticas para A* en el problema de busqueda de rutas en mapas. La clase MapSearchProblem, implementada en el laboratorio 1, tendra que ser modificada/ampliada para soportar mapas con localizaciones de las ciudades (coordenadas X,Y). Abajo puede encontrar la definición de la clase Mapa y una instancia específica con el mapa de Romania que sera usado en las pruebas. Mapa tiene dos atributos: <b>neighbors</b> (diccionario que contiene las ciudades vecinas de cada ciudad y las distancias para llegar a ellas, igual que el Laboratorio 1) y <b>location</b>, diccionario con las coordenadas X,Y de cada ciudad. \n",
    "\n",
    "Mas abajo estan las definiciones de la clase Problem, MapSearchProblem, Node, FrontierPQ (una frontera tipo cola de prioridad ordenada por una funcion especificada f, para best_first_graph_search y A*), best_first_graph_search y astar_search (A*). \n",
    "\n",
    "Al final de este notebook estan las tareas y preguntas que seran evaluadas en este laboratorio. \n"
   ]
  },
  {
   "cell_type": "markdown",
   "metadata": {},
   "source": [
    "<b>Mapa de Romania con localizaciones para pruebas</b>"
   ]
  },
  {
   "cell_type": "code",
   "execution_count": 14,
   "metadata": {
    "collapsed": true
   },
   "outputs": [],
   "source": [
    "class Mapa:\n",
    "    neighbors = dict()\n",
    "    location = dict()\n",
    "    \n",
    "romania = Mapa()\n",
    "romania.neighbors = {\n",
    " 'A': [('Z',75), ('T',118), ('S',140)],\n",
    " 'B': [('F',211), ('P',101), ('G',90), ('U',85)],\n",
    " 'C': [('D',120), ('R',146), ('P',138)],\n",
    " 'D': [('M',75), ('C',120)],\n",
    " 'E': [('H',86)],\n",
    " 'F': [('S',99), ('B',211)],\n",
    " 'G': [('B',90)],\n",
    " 'H': [('U',98), ('E',86)],\n",
    " 'I': [('N',87), ('V',92)],\n",
    " 'L': [('T',111), ('M',70)],\n",
    " 'M': [('L',70), ('D',75)],\n",
    " 'N': [('I',87)],\n",
    " 'O': [('Z',71), ('S',151)],\n",
    " 'P': [('R',97), ('C',138), ('B',101)],\n",
    " 'R': [('S',80), ('C',146), ('P',97)],\n",
    " 'S': [('A',140), ('O',151), ('F',99), ('R',80)],\n",
    " 'T': [('A',118), ('L',111)],\n",
    " 'U': [('B',85), ('V',142), ('H',98)],\n",
    " 'V': [('U',142), ('I',92)],\n",
    " 'Z': [('O',71), ('A',75)]}\n",
    "romania.location = {\n",
    " 'A': (91, 492),\n",
    " 'B': (400, 327),\n",
    " 'C': (253, 288),\n",
    " 'D': (165, 299),\n",
    " 'E': (562, 293),\n",
    " 'F': (305, 449),\n",
    " 'G': (375, 270),\n",
    " 'H': (534, 350),\n",
    " 'I': (473, 506),\n",
    " 'L': (165, 379),\n",
    " 'M': (168, 339),\n",
    " 'N': (406, 537),\n",
    " 'O': (131, 571),\n",
    " 'P': (320, 368),\n",
    " 'R': (233, 410),\n",
    " 'S': (207, 457),\n",
    " 'T': (94, 410),\n",
    " 'U': (456, 350),\n",
    " 'V': (509, 444),\n",
    " 'Z': (108, 531)}"
   ]
  },
  {
   "cell_type": "markdown",
   "metadata": {},
   "source": [
    "<b> Clase genérica Problem (no modificar) </b>"
   ]
  },
  {
   "cell_type": "code",
   "execution_count": 15,
   "metadata": {
    "collapsed": true
   },
   "outputs": [],
   "source": [
    "class Problem(object):\n",
    "    def __init__(self, initial, goal=None):\n",
    "        \"\"\"Este constructor especifica el estado inicial y posiblemente el estado(s) objetivo(s),\n",
    "        La subclase puede añadir mas argumentos.\"\"\"\n",
    "        self.initial = initial\n",
    "        self.goal = goal\n",
    "\n",
    "    def actions(self, state):\n",
    "        \"\"\"Retorna las acciones que pueden ser ejecutadas en el estado dado.\n",
    "        El resultado es tipicamente una lista.\"\"\"\n",
    "        raise NotImplementedError\n",
    "\n",
    "    def result(self, state, action):\n",
    "        \"\"\"Retorna el estado que resulta de ejecutar la accion dada en el estado state.\n",
    "        La accion debe ser alguna de self.actions(state).\"\"\"\n",
    "        raise NotImplementedError\n",
    "\n",
    "    def goal_test(self, state):\n",
    "        \"\"\"Retorna True si el estado pasado satisface el objetivo.\"\"\"\n",
    "        raise NotImplementedError\n",
    "\n",
    "    def path_cost(self, c, state1, action, state2):\n",
    "        \"\"\"Retorna el costo del camino de state2 viniendo de state1 con \n",
    "        la accion action, asumiendo un costo c para llegar hasta state1. \n",
    "        El metodo por defecto cuesta 1 para cada paso en el camino.\"\"\"\n",
    "        return c + 1\n",
    "\n",
    "    def value(self, state):\n",
    "        \"\"\"En problemas de optimizacion, cada estado tiene un valor. Algoritmos\n",
    "        como Hill-climbing intentan maximizar este valor.\"\"\"\n",
    "        raise NotImplementedError"
   ]
  },
  {
   "cell_type": "markdown",
   "metadata": {},
   "source": [
    "<b> Clase MapSearchProblem </b>  (define el problema de busqueda en mapa)"
   ]
  },
  {
   "cell_type": "code",
   "execution_count": 16,
   "metadata": {
    "collapsed": false
   },
   "outputs": [],
   "source": [
    "class MapSearchProblem(Problem):\n",
    "    def __init__(self, initial, goal, mapa):\n",
    "        \"\"\"El constructor recibe  el estado inicial, el estado objetivo y un mapa (de clase Mapa)\"\"\"\n",
    "        self.initial = initial\n",
    "        self.goal = goal\n",
    "        self.map = mapa\n",
    "\n",
    "    def actions(self, state):\n",
    "        \"\"\"Retorna las acciones ejecutables desde ciudad state.\n",
    "        El resultado es una lista de strings tipo 'goCity'. \n",
    "        Por ejemplo, en el mapa de Romania, las acciones desde Arad serian:\n",
    "         ['goZerind', 'goTimisoara', 'goSibiu']\"\"\"\n",
    "        #TODO\n",
    "        ciudadesCercanas= self.map.neighbors[state]\n",
    "        self.actio=['go'+ i for i,j in ciudadesCercanas]  \n",
    "        return self.actio\n",
    "        raise NotImplementedError\n",
    "\n",
    "    def result(self, state, action):\n",
    "        \"\"\"Retorna el estado que resulta de ejecutar la accion dada desde ciudad state.\n",
    "        La accion debe ser alguna de self.actions(state)\n",
    "        Por ejemplo, en el mapa de Romania, el resultado de aplicar la accion 'goZerind' \n",
    "        desde el estado 'Arad' seria 'Zerind'\"\"\"  \n",
    "        #TODO\n",
    "        for act in self.actions(state):\n",
    "            if act==action:\n",
    "                self.state=act[2:]  \n",
    "        return self.state        \n",
    "        raise NotImplementedError\n",
    "        \n",
    "    def goal_test(self, state):\n",
    "        \"\"\"Retorna True si state es self.goal\"\"\"\n",
    "        #TODO\n",
    "        return state==self.goal\n",
    "        raise NotImplementedError\n",
    "\n",
    "    def path_cost(self, c, state1, action, state2):\n",
    "        \"\"\"Retorna el costo del camino de state2 viniendo de state1 con la accion action \n",
    "        El costo del camino para llegar a state1 es c. El costo de la accion debe ser\n",
    "        extraido de self.map.\"\"\"\n",
    "        #TODO\n",
    "        costo=0\n",
    "        ciudadesCercanas= self.map.neighbors[state1]\n",
    "        estadosPosibles=[i for i,j in ciudadesCercanas]\n",
    "        costosPosibles= [j for i,j in ciudadesCercanas]\n",
    "        a=0\n",
    "        for estado in estadosPosibles:\n",
    "            if estado==state2:\n",
    "                costo=costosPosibles[a]\n",
    "            a=a+1                    \n",
    "        self.cost=costo+c\n",
    "        return self.cost\n",
    "        raise NotImplementedError"
   ]
  },
  {
   "cell_type": "markdown",
   "metadata": {},
   "source": [
    "<b> Clase Node </b>"
   ]
  },
  {
   "cell_type": "code",
   "execution_count": 17,
   "metadata": {
    "collapsed": true
   },
   "outputs": [],
   "source": [
    "class Node:\n",
    "    def __init__(self, state, parent=None, action=None, path_cost=0):\n",
    "        \"Crea un nodo de arbol de busqueda, derivado del nodo parent y accion action\"\n",
    "        self.state = state\n",
    "        self.parent = parent\n",
    "        self.action = action\n",
    "        self.path_cost = path_cost\n",
    "        self.depth = 0\n",
    "        if parent:\n",
    "            self.depth = parent.depth + 1\n",
    "\n",
    "    def expand(self, problem):\n",
    "        \"Devuelve los nodos alcanzables en un paso a partir de este nodo.\"\n",
    "        return [self.child_node(problem, action)\n",
    "                for action in problem.actions(self.state)]\n",
    "\n",
    "    def child_node(self, problem, action):\n",
    "        next = problem.result(self.state, action)\n",
    "        return Node(next, self, action,\n",
    "                    problem.path_cost(self.path_cost, self.state, action, next))\n",
    "\n",
    "    def solution(self):\n",
    "        \"Retorna la secuencia de acciones para ir de la raiz a este nodo.\"\n",
    "        return [node.action for node in self.path()[1:]]\n",
    "\n",
    "    def path(self):\n",
    "        \"Retorna una lista de nodos formando un camino de la raiz a este nodo.\"\n",
    "        node, path_back = self, []\n",
    "        while node:\n",
    "            path_back.append(node)\n",
    "            node = node.parent\n",
    "        return list(reversed(path_back))\n",
    "    \n",
    "    def __eq__(self, other): \n",
    "        \"Este metodo se ejecuta cuando se compara nodos. Devuelve True cuando los estados son iguales\"\n",
    "        return isinstance(other, Node) and self.state == other.state"
   ]
  },
  {
   "cell_type": "markdown",
   "metadata": {},
   "source": [
    "<b> Frontera tipo cola de prioridad ordenada por una funcion de costo (para best_first_graph_search y A*)</b> "
   ]
  },
  {
   "cell_type": "code",
   "execution_count": 18,
   "metadata": {
    "collapsed": true
   },
   "outputs": [],
   "source": [
    "import heapq\n",
    "class FrontierPQ:\n",
    "    \"Una Frontera ordenada por una funcion de costo (Priority Queue)\"\n",
    "    \n",
    "    def __init__(self, initial, costfn=lambda node: node.path_cost):\n",
    "        \"Inicializa la Frontera con un nodo inicial y una funcion de costo especificada (por defecto es el costo de camino).\"\n",
    "        self.heap   = []\n",
    "        self.states = {}\n",
    "        self.costfn = costfn\n",
    "        self.add(initial)\n",
    "    \n",
    "    def add(self, node):\n",
    "        \"Agrega un nodo a la frontera.\"\n",
    "        cost = self.costfn(node)\n",
    "        heapq.heappush(self.heap, (cost, node))\n",
    "        self.states[node.state] = node\n",
    "        \n",
    "    def pop(self):\n",
    "        \"Remueve y retorna el nodo con minimo costo.\"\n",
    "        (cost, node) = heapq.heappop(self.heap)\n",
    "        self.states.pop(node.state, None) # remove state\n",
    "        return node\n",
    "    \n",
    "    def replace(self, node):\n",
    "        \"node reemplaza al nodo de la Fontera que tiene el mismo estado que node.\"\n",
    "        if node.state not in self:\n",
    "            raise ValueError('{} no tiene nada que reemplazar'.format(node.state))\n",
    "        for (i, (cost, old_node)) in enumerate(self.heap):\n",
    "            if old_node.state == node.state:\n",
    "                self.heap[i] = (self.costfn(node), node)\n",
    "                heapq._siftdown(self.heap, 0, i)\n",
    "                return\n",
    "\n",
    "    def __contains__(self, state): return state in self.states\n",
    "    \n",
    "    def __len__(self): return len(self.heap)"
   ]
  },
  {
   "cell_type": "markdown",
   "metadata": {},
   "source": [
    "<b> Algoritmo Best-First-Graph-Search </b> "
   ]
  },
  {
   "cell_type": "code",
   "execution_count": 19,
   "metadata": {
    "collapsed": true
   },
   "outputs": [],
   "source": [
    "def best_first_graph_search(problem, f):\n",
    "    \"\"\"Busca el objetivo expandiendo el nodo de la frontera con el menor valor de la funcion f. Memoriza estados visitados\n",
    "    Antes de llamar a este algoritmo hay que especificar La funcion f(node). Si f es node.depth tenemos Busqueda en Amplitud; \n",
    "    si f es node.path_cost tenemos Busqueda  de Costo Uniforme. Si f es una heurística tenemos Busqueda Voraz;\n",
    "    Si f es node.path_cost + heuristica(node) tenemos A* \"\"\"\n",
    "\n",
    "    frontier = FrontierPQ( Node(problem.initial), f )  # frontera tipo cola de prioridad ordenada por f\n",
    "    explored = set()     # memoria de estados visitados\n",
    "    expanded_nodes = 0   # contador de nodos expandidos\n",
    "    while frontier:\n",
    "        node = frontier.pop()\n",
    "        if problem.goal_test(node.state):\n",
    "            return node, expanded_nodes\n",
    "        explored.add(node.state)\n",
    "        expanded_nodes = expanded_nodes + 1\n",
    "        for action in problem.actions(node.state):\n",
    "            child = node.child_node(problem, action)\n",
    "            if child.state not in explored and child.state not in frontier:\n",
    "                frontier.add(child)\n",
    "            elif child.state in frontier:\n",
    "                incumbent = frontier.states[child.state] \n",
    "                if f(child) < f(incumbent):\n",
    "                    frontier.replace(child)"
   ]
  },
  {
   "cell_type": "markdown",
   "metadata": {},
   "source": [
    "<b> Algoritmo A* </b> "
   ]
  },
  {
   "cell_type": "code",
   "execution_count": 20,
   "metadata": {
    "collapsed": true
   },
   "outputs": [],
   "source": [
    "def astar_search(problem, heuristic):\n",
    "    f = lambda node: node.path_cost + heuristic(node, problem)\n",
    "    return best_first_graph_search(problem, f)"
   ]
  },
  {
   "cell_type": "markdown",
   "metadata": {},
   "source": [
    "## Tareas y Cuestiones\n",
    "\n",
    "<b>1) Implementar las dos heurísticas abajo para A*: </b>\n",
    "  "
   ]
  },
  {
   "cell_type": "code",
   "execution_count": 25,
   "metadata": {
    "collapsed": true
   },
   "outputs": [],
   "source": [
    "import math \n",
    "def h1(node, problem):\n",
    "    \"Distancia en linea recta desde la posicion de node hasta la posicion del Objetivo (problem.goal)\"\n",
    "    #TODO\n",
    "    #Conseguimos la locacion del nodo dado\n",
    "    (xa,ya)=problem.map.location[node.state]\n",
    "    #Conseguimos la locacion del nodo objetivo\n",
    "    (xb,yb)=problem.map.location[problem.goal]\n",
    "    \n",
    "    #Hallamos la distancia en línea recta\n",
    "    d= math.sqrt((xa-xb)**2+(ya-yb)**2)\n",
    "    return d\n",
    "\n",
    "def h2(node, problem):\n",
    "    \"Distancia Manhatan (o city block) desde la posicion de node hasta la posicion del Objetivo (problem.goal)\"\n",
    "    #TODO\n",
    "    #Conseguimos la locacion del nodo dado\n",
    "    (xa,ya)=problem.map.location[node.state]\n",
    "    #Conseguimos la locacion del nodo objetivo\n",
    "    (xb,yb)=problem.map.location[problem.goal]\n",
    "    \n",
    "    #Hallamos la distancia Manhatan\n",
    "    d= abs(xa-xb)+abs(ya-yb)\n",
    "    return d"
   ]
  },
  {
   "cell_type": "markdown",
   "metadata": {},
   "source": [
    "<b>2) Ejecutar la busqueda A* con ambas heurísticas en los siguientes problemas:  (hasta 10 puntos si ejecuta correctamente)</b>"
   ]
  },
  {
   "cell_type": "code",
   "execution_count": 26,
   "metadata": {
    "collapsed": false
   },
   "outputs": [
    {
     "name": "stdout",
     "output_type": "stream",
     "text": [
      "Solucion del Problema p1 con heuristica h1: ['goS', 'goR', 'goP', 'goB']. Nodos expandidos = 5\n",
      "Solucion del Problema p1 con heuristica h2: ['goS', 'goF', 'goB']. Nodos expandidos = 3\n",
      "Solucion del Problema p2 con heuristica h1: ['goS', 'goR', 'goP', 'goB', 'goU', 'goV', 'goI', 'goN']. Nodos expandidos = 16\n",
      "Solucion del Problema p2 con heuristica h2: ['goS', 'goR', 'goP', 'goB', 'goU', 'goV', 'goI', 'goN']. Nodos expandidos = 15\n",
      "Solucion del Problema p3 con heuristica h1: ['goA', 'goS', 'goR', 'goP', 'goB', 'goU', 'goV']. Nodos expandidos = 14\n",
      "Solucion del Problema p3 con heuristica h2: ['goA', 'goS', 'goR', 'goP', 'goB', 'goU', 'goV']. Nodos expandidos = 12\n"
     ]
    }
   ],
   "source": [
    "p1 = MapSearchProblem('A', 'B', romania)\n",
    "p2 = MapSearchProblem('O', 'N', romania)\n",
    "p3 = MapSearchProblem('T', 'V', romania)\n",
    "\n",
    "node, num_exp_nodes = astar_search(p1, h1)\n",
    "print( 'Solucion del Problema p1 con heuristica h1: {}. Nodos expandidos = {}'.format(node.solution(), num_exp_nodes) )\n",
    "\n",
    "node, num_exp_nodes = astar_search(p1, h2)\n",
    "print( 'Solucion del Problema p1 con heuristica h2: {}. Nodos expandidos = {}'.format(node.solution(), num_exp_nodes) )\n",
    "\n",
    "node, num_exp_nodes = astar_search(p2, h1)\n",
    "print( 'Solucion del Problema p2 con heuristica h1: {}. Nodos expandidos = {}'.format(node.solution(), num_exp_nodes) )\n",
    "\n",
    "node, num_exp_nodes = astar_search(p2, h2)\n",
    "print( 'Solucion del Problema p2 con heuristica h2: {}. Nodos expandidos = {}'.format(node.solution(), num_exp_nodes) )\n",
    "\n",
    "node, num_exp_nodes = astar_search(p3, h1)\n",
    "print( 'Solucion del Problema p3 con heuristica h1: {}. Nodos expandidos = {}'.format(node.solution(), num_exp_nodes) )\n",
    "\n",
    "node, num_exp_nodes = astar_search(p3, h2)\n",
    "print( 'Solucion del Problema p3 con heuristica h2: {}. Nodos expandidos = {}'.format(node.solution(), num_exp_nodes) )\n"
   ]
  },
  {
   "cell_type": "markdown",
   "metadata": {},
   "source": [
    "<b>3) Basados en los resultados anteriores responda: (10 puntos)</b>\n",
    "\n",
    "3.1) ¿Cual heurística tiende a encontrar la solucion con menos nodos expandidos? Porque?\n",
    "\n",
    "La heurística 2 tiende a encontrar la solución con menos nodos expandidos, porque como sigue una distancia mayor a la que se consigue mediante la línea recta, se desplaza por menos nodos pero con posiblemente mayor costo de camino.\n",
    "\n",
    "3.2) ¿Las dos heurísticas encuentran siempre la solución optima? Porque?\n",
    "\n",
    "No siempre. En el ejemplo que se va de la ciudad 'A' a la ciudad 'B' la solución óptima de costo de camino es la que traza la heurística 1, mientras que la 2 logra visitar menos nodos teniendo un mayor costo de camino.\n",
    "\n",
    "El motivo por el cual se cumple esto es que la heurística 2 no es admisible (porque sobreestima el costo de alcanzar el objetivo) y su función no minimiza el costo de camino tan bien como lo puede hacer la heurística 1. \n",
    "\n",
    "\n"
   ]
  }
 ],
 "metadata": {
  "kernelspec": {
   "display_name": "Python 3",
   "language": "python",
   "name": "python3"
  },
  "language_info": {
   "codemirror_mode": {
    "name": "ipython",
    "version": 3
   },
   "file_extension": ".py",
   "mimetype": "text/x-python",
   "name": "python",
   "nbconvert_exporter": "python",
   "pygments_lexer": "ipython3",
   "version": "3.6.0"
  }
 },
 "nbformat": 4,
 "nbformat_minor": 2
}
